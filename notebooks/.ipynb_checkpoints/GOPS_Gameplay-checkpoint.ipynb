{
 "cells": [
  {
   "cell_type": "code",
   "execution_count": 1,
   "id": "ad2247bb",
   "metadata": {},
   "outputs": [],
   "source": [
    "import os\n",
    "import sys\n",
    "module_path = os.path.abspath(os.path.join('..'))\n",
    "if module_path not in sys.path:\n",
    "    sys.path.append(module_path)\n",
    "from GOPS_environment import GOPS, game_loop\n",
    "from agents.basic_agents import HumanAgent, RandomAgent"
   ]
  },
  {
   "cell_type": "markdown",
   "id": "c9113c77-0313-46c4-89ed-fd0496519eec",
   "metadata": {},
   "source": [
    "Instantiate a GOPS env, a `HumanAgent()` (just a wrapper for the console) and an opponent agent"
   ]
  },
  {
   "cell_type": "code",
   "execution_count": 2,
   "id": "e65c8161-5ff5-46f7-9ae4-9e9eff8a437b",
   "metadata": {},
   "outputs": [],
   "source": [
    "num_cards = 5\n",
    "env = GOPS(num_cards)\n",
    "\n",
    "human_agent = HumanAgent()\n",
    "opponent = RandomAgent()"
   ]
  },
  {
   "cell_type": "markdown",
   "id": "9ce2fd8e-3e80-4842-881a-d0efc436ec5f",
   "metadata": {},
   "source": [
    "The `game_loop()` helper allows playing the game"
   ]
  },
  {
   "cell_type": "code",
   "execution_count": 4,
   "id": "caeb5504-8b94-406a-b663-5fcb7723ff2a",
   "metadata": {},
   "outputs": [
    {
     "name": "stdout",
     "output_type": "stream",
     "text": [
      "========================================\n",
      "Your score is 0. Opponent's score is 0\n",
      "Current value card is 2\n",
      "Remaining value cards: [1 3 4 5]\n",
      "Legal moves are [1 2 3 4 5]\n",
      "Opponent's legal moves are [1 2 3 4 5]\n"
     ]
    },
    {
     "name": "stdin",
     "output_type": "stream",
     "text": [
      "Choose a valid move: 2\n"
     ]
    },
    {
     "name": "stdout",
     "output_type": "stream",
     "text": [
      "========================================\n",
      "Your score is 2. Opponent's score is 0\n",
      "Current value card is 3\n",
      "Remaining value cards: [1 4 5]\n",
      "Legal moves are [1 3 4 5]\n",
      "Opponent's legal moves are [2 3 4 5]\n"
     ]
    },
    {
     "name": "stdin",
     "output_type": "stream",
     "text": [
      "Choose a valid move: 3\n"
     ]
    },
    {
     "name": "stdout",
     "output_type": "stream",
     "text": [
      "========================================\n",
      "Your score is 5. Opponent's score is 0\n",
      "Current value card is 4\n",
      "Remaining value cards: [1 5]\n",
      "Legal moves are [1 4 5]\n",
      "Opponent's legal moves are [3 4 5]\n"
     ]
    },
    {
     "name": "stdin",
     "output_type": "stream",
     "text": [
      "Choose a valid move: 4\n"
     ]
    },
    {
     "name": "stdout",
     "output_type": "stream",
     "text": [
      "========================================\n",
      "Your score is 5. Opponent's score is 0\n",
      "Current value card is 1\n",
      "Remaining value cards: [5]\n",
      "Legal moves are [1 5]\n",
      "Opponent's legal moves are [3 5]\n"
     ]
    },
    {
     "name": "stdin",
     "output_type": "stream",
     "text": [
      "Choose a valid move: 1\n"
     ]
    },
    {
     "name": "stdout",
     "output_type": "stream",
     "text": [
      "========================================\n",
      "Your score is 5. Opponent's score is 1\n",
      "Current value card is 5\n",
      "Remaining value cards: []\n",
      "Legal moves are [5]\n",
      "Opponent's legal moves are [3]\n"
     ]
    },
    {
     "name": "stdin",
     "output_type": "stream",
     "text": [
      "Choose a valid move: 5\n"
     ]
    },
    {
     "name": "stdout",
     "output_type": "stream",
     "text": [
      "Final scores are 10, 1\n",
      "Player 1 won!\n"
     ]
    }
   ],
   "source": [
    "game_loop(env, human_agent, opponent, num_games=1)"
   ]
  },
  {
   "cell_type": "code",
   "execution_count": null,
   "id": "fee4e81b-c6c2-477f-af33-1b33f0f25ffb",
   "metadata": {},
   "outputs": [],
   "source": []
  }
 ],
 "metadata": {
  "kernelspec": {
   "display_name": "Python 3 (ipykernel)",
   "language": "python",
   "name": "python3"
  },
  "language_info": {
   "codemirror_mode": {
    "name": "ipython",
    "version": 3
   },
   "file_extension": ".py",
   "mimetype": "text/x-python",
   "name": "python",
   "nbconvert_exporter": "python",
   "pygments_lexer": "ipython3",
   "version": "3.12.1"
  }
 },
 "nbformat": 4,
 "nbformat_minor": 5
}
